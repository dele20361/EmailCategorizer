{
 "cells": [
  {
   "cell_type": "code",
   "execution_count": 1,
   "metadata": {},
   "outputs": [],
   "source": [
    "from preprocess import preprocess_new_text, get_preprocessed_dataset\n",
    "from sklearn.feature_extraction.text import TfidfVectorizer\n",
    "\n",
    "# Example: Load, preprocess, and balance dataset\n",
    "data_path = \"./data\"\n",
    "categories = [\"Crime\", \"Entertainment\", \"Politics\", \"Science\"]\n",
    "balanced_df, y_resampled = get_preprocessed_dataset(data_path, categories)\n",
    "\n",
    "# Fit TF-IDF vectorizer (already done during `vectorize_dataset`)\n",
    "tfidf = TfidfVectorizer(max_features=5000, lowercase=False)\n",
    "X = tfidf.fit_transform(balanced_df)"
   ]
  },
  {
   "cell_type": "code",
   "execution_count": 2,
   "metadata": {},
   "outputs": [
    {
     "data": {
      "text/plain": [
       "<Compressed Sparse Row sparse matrix of dtype 'float64'\n",
       "\twith 5 stored elements and shape (1, 5000)>"
      ]
     },
     "execution_count": 2,
     "metadata": {},
     "output_type": "execute_result"
    }
   ],
   "source": [
    "# Example: New text to classify\n",
    "new_text = \"The government passed a new law today regarding climate change.\"\n",
    "\n",
    "# Preprocess and vectorize\n",
    "vectorized_text = preprocess_new_text(new_text, tfidf)\n",
    "vectorized_text"
   ]
  },
  {
   "cell_type": "code",
   "execution_count": 3,
   "metadata": {},
   "outputs": [],
   "source": [
    "from keras.models import load_model\n",
    "\n",
    "# Load the model\n",
    "model = load_model(\"./models/w2v_nn.keras\")"
   ]
  },
  {
   "cell_type": "code",
   "execution_count": 4,
   "metadata": {},
   "outputs": [
    {
     "name": "stdout",
     "output_type": "stream",
     "text": [
      "\u001b[1m1/1\u001b[0m \u001b[32m━━━━━━━━━━━━━━━━━━━━\u001b[0m\u001b[37m\u001b[0m \u001b[1m0s\u001b[0m 196ms/step\n",
      "Predicted Category: [0.1985978  0.18697236 0.962118   0.4824808 ]\n"
     ]
    }
   ],
   "source": [
    "# Predict using a trained model\n",
    "# Assuming `model` is a trained classifier\n",
    "prediction = model.predict(vectorized_text)\n",
    "print(f\"Predicted Category: {prediction[0]}\")"
   ]
  }
 ],
 "metadata": {
  "kernelspec": {
   "display_name": "venv",
   "language": "python",
   "name": "python3"
  },
  "language_info": {
   "codemirror_mode": {
    "name": "ipython",
    "version": 3
   },
   "file_extension": ".py",
   "mimetype": "text/x-python",
   "name": "python",
   "nbconvert_exporter": "python",
   "pygments_lexer": "ipython3",
   "version": "3.10.0"
  }
 },
 "nbformat": 4,
 "nbformat_minor": 2
}
